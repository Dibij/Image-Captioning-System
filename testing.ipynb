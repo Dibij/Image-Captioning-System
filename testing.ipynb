{
 "cells": [
  {
   "cell_type": "code",
   "execution_count": 3,
   "id": "e24703ee",
   "metadata": {},
   "outputs": [
    {
     "name": "stderr",
     "output_type": "stream",
     "text": [
      "<>:49: SyntaxWarning: invalid escape sequence '\\d'\n",
      "<>:49: SyntaxWarning: invalid escape sequence '\\d'\n",
      "C:\\Users\\Kshitish Pandit\\AppData\\Local\\Temp\\ipykernel_8432\\816366234.py:49: SyntaxWarning: invalid escape sequence '\\d'\n",
      "  test_image_path = \"Image-Captioning-System\\data\\bike 2.jpg\"\n"
     ]
    },
    {
     "ename": "ModuleNotFoundError",
     "evalue": "No module named 'tensorflow'",
     "output_type": "error",
     "traceback": [
      "\u001b[31m---------------------------------------------------------------------------\u001b[39m",
      "\u001b[31mModuleNotFoundError\u001b[39m                       Traceback (most recent call last)",
      "\u001b[36mCell\u001b[39m\u001b[36m \u001b[39m\u001b[32mIn[3]\u001b[39m\u001b[32m, line 1\u001b[39m\n\u001b[32m----> \u001b[39m\u001b[32m1\u001b[39m \u001b[38;5;28;01mimport\u001b[39;00m\u001b[38;5;250m \u001b[39m\u001b[34;01mtensorflow\u001b[39;00m\u001b[38;5;250m \u001b[39m\u001b[38;5;28;01mas\u001b[39;00m\u001b[38;5;250m \u001b[39m\u001b[34;01mtf\u001b[39;00m\n\u001b[32m      2\u001b[39m \u001b[38;5;28;01mimport\u001b[39;00m\u001b[38;5;250m \u001b[39m\u001b[34;01mnumpy\u001b[39;00m\u001b[38;5;250m \u001b[39m\u001b[38;5;28;01mas\u001b[39;00m\u001b[38;5;250m \u001b[39m\u001b[34;01mnp\u001b[39;00m\n\u001b[32m      3\u001b[39m \u001b[38;5;28;01mimport\u001b[39;00m\u001b[38;5;250m \u001b[39m\u001b[34;01mcv2\u001b[39;00m\n",
      "\u001b[31mModuleNotFoundError\u001b[39m: No module named 'tensorflow'"
     ]
    }
   ],
   "source": [
    "import tensorflow as tf\n",
    "import numpy as np\n",
    "import cv2\n",
    "import os\n",
    "from tensorflow.keras.models import load_model\n",
    "from tensorflow.keras.preprocessing.image import img_to_array\n",
    "from tensorflow.keras.applications.imagenet_utils import preprocess_input\n",
    "\n",
    "# --- 1. Load the Saved Model ---\n",
    "model_path = 'image_captioning_model.h5'  # Replace with your model path\n",
    "model = load_model(model_path)\n",
    "print(\"Model loaded successfully!\")\n",
    "\n",
    "# --- 2. Load and Preprocess Test Image ---\n",
    "def preprocess_image(image_path, target_size=(224, 224)):\n",
    "    \"\"\"\n",
    "    Preprocess image for model input.\n",
    "    Args:\n",
    "        image_path (str): Path to the image.\n",
    "        target_size (tuple): Resize dimensions (default: (224, 224)).\n",
    "    Returns:\n",
    "        np.array: Preprocessed image.\n",
    "    \"\"\"\n",
    "    img = cv2.imread(image_path)\n",
    "    if img is None:\n",
    "        raise FileNotFoundError(f\"Image not found at {image_path}\")\n",
    "    \n",
    "    img = cv2.resize(img, target_size)\n",
    "    img = img_to_array(img)\n",
    "    img = np.expand_dims(img, axis=0)  # Add batch dimension\n",
    "    img = preprocess_input(img)  # Normalize for model (e.g., ResNet preprocessing)\n",
    "    return img\n",
    "\n",
    "# --- 3. Run Prediction ---\n",
    "def predict(image_path):\n",
    "    \"\"\"\n",
    "    Run model prediction on an image.\n",
    "    Args:\n",
    "        image_path (str): Path to the test image.\n",
    "    Returns:\n",
    "        Predicted output (e.g., class probabilities or captions).\n",
    "    \"\"\"\n",
    "    img = preprocess_image(image_path)\n",
    "    prediction = model.predict(img)\n",
    "    return prediction\n",
    "\n",
    "# --- 4. Test on a Sample Image ---\n",
    "if __name__ == \"__main__\":\n",
    "    test_image_path = \"Image-Captioning-System\\data\\bike 2.jpg\"\n",
    "    if not os.path.exists(test_image_path):\n",
    "        raise FileNotFoundError(f\"Test image not found: {test_image_path}\")\n",
    "    \n",
    "    print(f\"Testing on: {test_image_path}\")\n",
    "    prediction = predict(test_image_path)\n",
    "    print(\"Prediction Output:\", prediction)"
   ]
  },
  {
   "cell_type": "code",
   "execution_count": null,
   "id": "bf24b2fe",
   "metadata": {},
   "outputs": [],
   "source": []
  }
 ],
 "metadata": {
  "kernelspec": {
   "display_name": "env",
   "language": "python",
   "name": "python3"
  },
  "language_info": {
   "codemirror_mode": {
    "name": "ipython",
    "version": 3
   },
   "file_extension": ".py",
   "mimetype": "text/x-python",
   "name": "python",
   "nbconvert_exporter": "python",
   "pygments_lexer": "ipython3",
   "version": "3.12.7"
  }
 },
 "nbformat": 4,
 "nbformat_minor": 5
}
